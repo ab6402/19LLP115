{
  "cells": [
    {
      "metadata": {
        "collapsed": true
      },
      "cell_type": "markdown",
      "source": "# Data Encryption Standard (DES) Python Implementation\nU.S. Department of Commerce. (1999). FIPS PUB 46-3: Data Encryption Standard (DES). Available at: https://csrc.nist.gov/publications/detail/fips/46/3/archive/1999-10-25 [Accessed 7 February 2020]."
    },
    {
      "metadata": {},
      "cell_type": "markdown",
      "source": "## Overview\nA. Base algorithm\n  1. Key schedule calculation (KSC): Generates 48 bit keys for use in iterations.\n  2. Calculation of f(R, K): Expansion, xor s-box diffusion.\n  3. Enciphering computation: 16 iterations\n  4. Deciphering computation: 16 iterations\n\nB. Modes of Operation\n  1. Electronic Code Book (ECB) Mode\n  2. Cipher Block Chain (CBC) Mode"
    },
    {
      "metadata": {},
      "cell_type": "markdown",
      "source": "### Import and Script Operation Variables"
    },
    {
      "metadata": {
        "trusted": true
      },
      "cell_type": "code",
      "source": "import sys",
      "execution_count": 1,
      "outputs": []
    },
    {
      "metadata": {
        "trusted": true
      },
      "cell_type": "code",
      "source": "debug = 1 # Debug level 0 - 3, where 0 is no debug messages\n#info_level = 2",
      "execution_count": 2,
      "outputs": []
    },
    {
      "metadata": {},
      "cell_type": "markdown",
      "source": "### General Support Functions"
    },
    {
      "metadata": {
        "trusted": true
      },
      "cell_type": "code",
      "source": "# Custom print formatting\ndef cPrint(str, format):\n    out = str\n    if format == \"underline\":\n        out = \"\\033[4m\"+str+\"\\033[0m\"\n    elif format == \"bold\":\n        out = \"\\033[1m\"+str+\"\\033[0m\"\n    print(out)\n\n    \n# Binary, Hex, Ascci Conversion\ndef convert_hex_to_binary(hexdigits):\n    binarydigits = \"\"\n    for hexdigit in hexdigits:\n        binarydigits += bin(int(hexdigit,16))[2:].zfill(4)\n    return binarydigits\n\ndef convert_binary_to_hex(binarydigits):\n    hexdigits = '%0*X' % ((len(binarydigits) + 3) // 4, int(binarydigits, 2))\n    return hexdigits\n\ndef convert_ascii_to_hex(ascii_input):\n    return ''.join([hex(ord(c))[2:].zfill(2) for c in ascii_input])\n\ndef convert_hex_to_ascii(hex_input):\n    return ''.join([chr(int(''.join(c), 16)) for c in zip(hex_input[0::2],hex_input[1::2])])\n\n\n# xor\ndef xor(input1,input2):\n    # xor\n    # Example: xor(input1,input2)\n    \n    result = \"\"\n    for index in range(len(input1)):\n        if input1[index] == input2[index]: \n            result += '0'\n        else:\n            result += '1'\n    return result",
      "execution_count": 3,
      "outputs": []
    },
    {
      "metadata": {},
      "cell_type": "markdown",
      "source": "## Key schedule calculation (KSC)\nFigure 3.Key schedule calculation. U.S. Department of Commerce. (1999). FIPS PUB 46-3: Data Encryption Standard (DES), pp.20."
    },
    {
      "metadata": {},
      "cell_type": "markdown",
      "source": "\n<img src=\"./assets/des_figure_3_key_schedule_calculation.png\" align=\"left\" width=\"40%\" height=auto>"
    },
    {
      "metadata": {},
      "cell_type": "markdown",
      "source": "### Static Variables for KSC"
    },
    {
      "metadata": {
        "trusted": true
      },
      "cell_type": "code",
      "source": "permuted_choice_1_table = [57,49,41,33,25,17,9,\n                           1,58,50,42,34,26,18,\n                           10,2,59,51,43,35,27,\n                           19,11,3,60,52,44,36,\n                           63,55,47,39,31,23,15,\n                           7,62,54,46,38,30,22,\n                           14,6,61,53,45,37,29,\n                           21,13,5,28,20,12,4]\n\npermuted_choice_2_table = [14,17,11,24,1,5,\n                           3,28,15,6,21,10,\n                           23,19,12,4,26,8,\n                           16,7,27,20,13,2,\n                           41,52,31,37,47,55,\n                           30,40,51,45,33,48,\n                           44,49,39,56,34,53,\n                           46,42,50,36,29,32]\n\niteration_shifts = [1, 1, 2, 2, 2, 2, 2, 2, 1, 2, 2, 2, 2, 2, 2, 1]",
      "execution_count": 4,
      "outputs": []
    },
    {
      "metadata": {},
      "cell_type": "markdown",
      "source": "### KSC Functions"
    },
    {
      "metadata": {
        "trusted": true
      },
      "cell_type": "code",
      "source": "# KSC Function-1 Permutations\ndef apply_permutation(permuted_choice_table,ini_input):\n    # Function takes an initial key (ini_key) and permutes using static permuted_choice_table\n    # returning key of len(permuted_choice_table) bits  as output (gen_key).\n    # Example usage: out_key56 = apply_permutation(apply_permutation_choice_1)\n    \n    permutated_out = \"\"\n    for index in permuted_choice_table:\n        permutated_out += ini_input[index-1] # -1 as list index starts at 0\n    return permutated_out\n\n\n# KSC Function-2. Split inout into two equal length parts\ndef split_in_half(initial_input,initial_length):\n    # Function takes a n bit input and splits into two half based on initial_length/2\n    # Initial_input and initial_length must be an even number\n    # Example usage: Ci , Di = split_in_half(out_key56, 56)\n    \n    split = int(initial_length/2)\n    left, right = initial_input[:split],initial_input[split:]\n    return left, right\n\n\n# KSC Function-3. Circular left shift\ndef circular_left_shift(input_bits,n_shift):\n    # Function applies n (n_shift) circular shift to input (input_bits)\n    # Example usage:circularShiftedBits = circular_left_shift(bits,numberofbits)\n    \n    shifted_bits = input_bits[n_shift:] + input_bits[:n_shift]\n    return shifted_bits",
      "execution_count": 5,
      "outputs": []
    },
    {
      "metadata": {},
      "cell_type": "markdown",
      "source": "### Key schedule calculation"
    },
    {
      "metadata": {
        "trusted": true
      },
      "cell_type": "code",
      "source": "def gen_schedule_keys(k):\n    # Initialise list to load generated keys for use in the 16 rounds \n    schedule_keys = list()\n\n    # Check initial k length\n    if len(k) != 64:\n        print(\"Initial key (k) must be 64 bits, currently it is \"+str(len(k))+\" bits.\")\n        sys.exit(0)\n\n    # Permuted Choice 1: Table permutation & Key Split\n    out_key56 = apply_permutation(permuted_choice_1_table,k) \n    C0, D0 = split_in_half(out_key56, 56)\n\n    # Repeat 16 times\n    for i in range(16):\n\n        # Circular Left Shifts\n        Ci = circular_left_shift(C0,iteration_shifts[i])\n        Di = circular_left_shift(D0,iteration_shifts[i])\n\n        # Permuted Choice 2: Table permutation\n        Kn = apply_permutation(permuted_choice_2_table,Ci+Di)\n\n        # Add Kn to schedule_keys list\n        schedule_keys.append(Kn)\n\n        # Check this - Set the key to be shiften in the next round to the shifted key in current round\n        C0 = Ci\n        D0 = Di\n    return schedule_keys\n\n# The schedule_keys will have all 16 keys as Python list\n# print(schedule_keys)\n",
      "execution_count": 6,
      "outputs": []
    },
    {
      "metadata": {},
      "cell_type": "markdown",
      "source": "## Calculation of f(R, K)\nFigure 2.Calculation of f(R, K). U.S. Department of Commerce. (1999). FIPS PUB 46-3: Data Encryption Standard (DES), pp.13."
    },
    {
      "metadata": {},
      "cell_type": "markdown",
      "source": "<img src=\"./assets/des_figure_2_calculation_of_cipher_function_f.png\" align=\"left\" width=\"40%\" height=auto>"
    },
    {
      "metadata": {},
      "cell_type": "markdown",
      "source": "### Static Variables for calculation of f(R, K)"
    },
    {
      "metadata": {
        "trusted": true
      },
      "cell_type": "code",
      "source": "ebit_selection_table = [32,1,2,3,4,5,\n                        4,5,6,7,8,9,\n                        8,9,10,11,12,13,\n                        12,13,14,15,16,17,\n                        16,17,18,19,20,21,\n                        20,21,22,23,24,25,\n                        24,25,26,27,28,29,\n                        28,29,30,31,32,1]\n\nsbox_tables = [\n    # S1\n    [[14,4,13,1,2,15,11,8,3,10,6,12,5,9,0,7],\n     [0,15,7,4,14,2,13,1,10,6,12,11,9,5,3,8],\n     [4,1,14,8,13,6,2,11,15,12,9,7,3,10,5,0],\n     [15,12,8,2,4,9,1,7,5,11,3,14,10,0,6,13]],\n\n    # S2\n    [[15,1,8,14,6,11,3,4,9,7,2,13,12,0,5,10],\n     [3,13,4,7,15,2,8,14,12,0,1,10,6,9,11,5],\n     [0,14,7,11,10,4,13,1,5,8,12,6,9,3,2,15],\n     [13,8,10,1,3,15,4,2,11,6,7,12,0,5,14,9]],\n\n    # S3\n    [[10,0,9,14,6,3,15,5,1,13,12,7,11,4,2,8],\n     [13,7,0,9,3,4,6,10,2,8,5,14,12,11,15,1],\n     [13,6,4,9,8,15,3,0,11,1,2,12,5,10,14,7],\n     [1,10,13,0,6,9,8,7,4,15,14,3,11,5,2,12]],\n\n    # S4\n    [[7,13,14,3,0,6,9,10,1,2,8,5,11,12,4,15],\n     [13,8,11,5,6,15,0,3,4,7,2,12,1,10,14,9],\n     [10,6,9,0,12,11,7,13,15,1,3,14,5,2,8,4],\n     [3,15,0,6,10,1,13,8,9,4,5,11,12,7,2,14]],\n\n    # S5\n    [[2,12,4,1,7,10,11,6,8,5,3,15,13,0,14,9],\n     [14,11,2,12,4,7,13,1,5,0,15,10,3,9,8,6],\n     [4,2,1,11,10,13,7,8,15,9,12,5,6,3,0,14],\n     [11,8,12,7,1,14,2,13,6,15,0,9,10,4,5,3]],\n\n    # S6\n    [[12,1,10,15,9,2,6,8,0,13,3,4,14,7,5,11],\n     [10,15,4,2,7,12,9,5,6,1,13,14,0,11,3,8],\n     [9,14,15,5,2,8,12,3,7,0,4,10,1,13,11,6],\n     [4,3,2,12,9,5,15,10,11,14,1,7,6,0,8,13]],\n\n    # S7\n    [[4,11,2,14,15,0,8,13,3,12,9,7,5,10,6,1],\n     [13,0,11,7,4,9,1,10,14,3,5,12,2,15,8,6],\n     [1,4,11,13,12,3,7,14,10,15,6,8,0,5,9,2],\n     [6,11,13,8,1,4,10,7,9,5,0,15,14,2,3,12]],\n\n    # S8\n    [[13,2,8,4,6,15,11,1,10,9,3,14,5,0,12,7],\n     [1,15,13,8,10,3,7,4,12,5,6,11,0,14,9,2],\n     [7,11,4,1,9,12,14,2,0,6,10,13,15,3,5,8],\n     [2,1,14,7,4,10,8,13,15,12,9,0,3,5,6,11]]\n    ]\n\np_table = [16,7,20,21,\n           29,12,28,17,\n           1,15,23,26,\n           5,18,31,10,\n           2,8,24,14,\n           32,27,3,9,\n           19,13,30,6,\n           22,11,4,25]",
      "execution_count": 7,
      "outputs": []
    },
    {
      "metadata": {},
      "cell_type": "markdown",
      "source": "### Functions for Calculation of f(R, K) "
    },
    {
      "metadata": {
        "trusted": true
      },
      "cell_type": "code",
      "source": "# f(R, K) Function-1 S-Box Lookup\ndef sbox_lookup(sbox_lookup_table_number,first_last_bits,middle4_bits):\n    # Function looks up\n    \n    # Convert first & last and middle 4 bit variables to decimal\n    first_last_bits_as_decimal = int(first_last_bits,2)\n    middle4_bits_as_decimal = int(middle4_bits,2)\n    \n    #Lookup in sbox tables\n    sbox_value = sbox_tables[sbox_lookup_table_number][first_last_bits_as_decimal][middle4_bits_as_decimal]\n    \n    # Return binary\n    return bin(sbox_value)[2:].zfill(4)\n",
      "execution_count": 8,
      "outputs": []
    },
    {
      "metadata": {},
      "cell_type": "markdown",
      "source": "### Calculation of f(R, K) "
    },
    {
      "metadata": {
        "trusted": true
      },
      "cell_type": "code",
      "source": "def f_function(R,key48):\n    # Initialise result\n    result = \"\"\n\n    # E expansion\n    #left_expanded48 = apply_e_expansion(ebit_selection_table,R)\n    #e_expansion is just a permutation using ebit_selection_table\n    left_expanded48 = apply_permutation(ebit_selection_table,R)\n\n    # xor left expansion with key \n    xor_result = xor(left_expanded48,key48)\n\n    # Split xor result into 6 bit segments\n    split_into6bit_list = [xor_result[i:i+6] for i in range(0, len(xor_result), 6)]\n\n    for sbox_lookup_table_number, bits6_section in enumerate(split_into6bit_list):\n\n        first_last_bits = bits6_section[0] + bits6_section[-1]\n\n        middle4_bits = bits6_section[1:5]\n\n        sbox_result = sbox_lookup(sbox_lookup_table_number,first_last_bits,middle4_bits)\n\n        result += sbox_result\n\n    final32bits = apply_permutation(p_table,result)\n    return final32bits",
      "execution_count": 9,
      "outputs": []
    },
    {
      "metadata": {},
      "cell_type": "markdown",
      "source": "## Enciphering computation (Feistel function)\nFigure 1. Enciphering computation. U.S. Department of Commerce. (1999). FIPS PUB 46-3: Data Encryption Standard (DES), pp.9."
    },
    {
      "metadata": {},
      "cell_type": "markdown",
      "source": "<img src=\"./assets/des_figure_1_enciphering_computation.png\" align=\"left\" width=\"40%\" height=auto>"
    },
    {
      "metadata": {},
      "cell_type": "markdown",
      "source": "### Static Variables for enciphering"
    },
    {
      "metadata": {
        "trusted": true
      },
      "cell_type": "code",
      "source": "initial_permutation_table = [58, 50, 42, 34, 26, 18, 10, 2,\n                             60, 52, 44, 36, 28, 20, 12, 4,\n                             62, 54, 46, 38, 30, 22, 14, 6,\n                             64, 56, 48, 40, 32, 24, 16, 8,\n                             57, 49, 41, 33, 25, 17, 9, 1,\n                             59, 51, 43, 35, 27, 19, 11, 3,\n                             61, 53, 45, 37, 29, 21, 13, 5,\n                             63, 55, 47, 39, 31, 23, 15, 7]\n\ninverse_permutation_table = [40, 8, 48, 16, 56, 24, 64, 32,\n                             39, 7, 47, 15, 55, 23, 63, 31,\n                             38, 6, 46, 14,  54, 22, 62, 30,\n                             37, 5, 45, 13, 53, 21, 61, 29,\n                             36, 4, 44, 12, 52, 20, 60, 28,\n                             35, 3, 43, 11, 51, 19, 59, 27, \n                             34, 2, 42, 10, 50, 18, 58, 26,\n                             33, 1, 41, 9, 49, 17, 57, 25]\n",
      "execution_count": 10,
      "outputs": []
    },
    {
      "metadata": {},
      "cell_type": "markdown",
      "source": "### Enciphering"
    },
    {
      "metadata": {
        "trusted": true
      },
      "cell_type": "code",
      "source": "def encrypt_des(m,k):\n    # Function takes message and key in hex\n    \n    # Convert hex digits to binary\n    m_in_bits = convert_hex_to_binary(m)\n    key_in_bits = convert_hex_to_binary(k)\n    \n    if debug == 3:\n        print(\"\\n[DEBUG]\\t\",\"Starting encryption [encrypt_des]\")\n        print(\"[DEBUG]\\t\",\"m in bits:\",m_in_bits)\n        print(\"[DEBUG]\\t\",\"k in bits:\",key_in_bits)\n    \n    # Generate schedule keys for use in iterations\n    schedule_keys = gen_schedule_keys(key_in_bits)\n\n    # Initial permutation\n    permutated_m = apply_permutation(initial_permutation_table,m_in_bits)\n    \n    # split permutated message into two\n    L0,R0 = split_in_half(permutated_m,64)\n    \n    # Initialise left and right halves of permutated message for use in iterations\n    L = L0\n    R = R0\n    \n    # Loop for 16 iterations\n    if debug == 3:\n            print(\"\\n[DEBUG]\\t\",\"Starting Iterations\")\n    for i in range(16):\n        if debug == 3:\n            print(\"[DEBUG]\\t\",\"Iteration:\",i,\" schedule_key:\",schedule_keys[i])\n\n        Rn1 = xor(L,f_function(R, schedule_keys[i]))\n        Ln1 = R\n        \n        R = Rn1\n        L = Ln1\n    \n    # Final inverse initial permutation\n    c = apply_permutation(inverse_permutation_table, R+L)\n    \n    return convert_binary_to_hex(c)\n\n\nif debug >= 2:\n    cPrint(\"\\n[DEBUG]\\tTesting encrypt_des with static hex variables\\n\", \"bold\")\n    m = 'A1B2C3D4E5F67890' # Hex message 16 bits / 64 bit binary\n    k = '01AF5E32134C8FA3'\n\n    # Show results\n    cPrint(\"[DEBUG]\\tInput\", \"underline\")\n    print(\"[DEBUG]\\tInitial Message (m):\\t\\t\",m)\n    print(\"[DEBUG]\\tKey:\\t\\t\\t\\t\",k)\n\n    c = encrypt_des(m,k)\n    \n    print(\"\\r\")\n    cPrint(\"[DEBUG]\\tOutput\", \"underline\")\n    print(\"[DEBUG]\\tCipher in hexadecimal:\\t\\t\", c)\n",
      "execution_count": 11,
      "outputs": []
    },
    {
      "metadata": {},
      "cell_type": "markdown",
      "source": "# Deciphering"
    },
    {
      "metadata": {
        "trusted": true
      },
      "cell_type": "code",
      "source": "def decrypt_des(c,k):\n    # Function takes cipher text (c) and key (k) as hexadecimal and decrypts c with k.\n    \n    c_in_bits = convert_hex_to_binary(c)\n    key_in_bits = convert_hex_to_binary(k)\n    \n    if debug == 3:\n        print(\"\\n[DEBUG]\\t\",\"Starting decryption [decrypt_des]\")\n        print(\"[DEBUG]\\t\",\"c in bits:\",c_in_bits)\n        print(\"[DEBUG]\\t\",\"k in bits:\",key_in_bits)\n    \n    # Generate schedule keys for use in iterations\n    schedule_keys = gen_schedule_keys(key_in_bits)\n    \n    # Final inverse initial permutation\n    permutated_c = apply_permutation(initial_permutation_table, c_in_bits)\n\n    \n    # split permutated message into two\n    R0, L0 = split_in_half(permutated_c,64)\n    \n    # Initialise left and right halves of permutated message for use in iterations\n    L = L0\n    R = R0\n    \n    # Loop for 16 iterations\n    if debug == 3:\n        print(\"\\n[DEBUG]\\t\",\"Starting Iterations\")\n        \n    for i in reversed(range(16)):\n        if debug == 3:\n            print(\"[DEBUG]\\t\",\"Iteration:\",i,\" schedule_key:\",schedule_keys[i])\n        \n        Rn1 = L\n        Ln1 = xor(R,f_function(L, schedule_keys[i]))\n        \n        R = Rn1\n        L = Ln1\n        \n    # Initial permutation\n    decrypted_m = apply_permutation(inverse_permutation_table,L+R)\n    \n    return convert_binary_to_hex(decrypted_m)\n\nif debug >= 2:\n    cPrint(\"\\n[DEBUG]\\tTesting decrypt_des with static hex variables\\n\", \"bold\")\n    m = \"A1B2C3D4E5F67890\"\n    k = '01AF5E32134C8FA3'\n    c = 'E2D58918E777331C'\n\n    # Show results\n    cPrint(\"[DEBUG]\\tInput\", \"underline\")\n    print(\"[DEBUG]\\tInitial Message (m):\\t\\t\",m)\n    print(\"[DEBUG]\\tCipher:\\t\\t\\t\\t\",c)\n    print(\"[DEBUG]\\tKey:\\t\\t\\t\\t\",k)\n\n    decrypted_m = decrypt_des(c,k)\n    \n    print(\"\\r\")\n    cPrint(\"[DEBUG]\\tOutput\", \"underline\")\n    print(\"[DEBUG]\\tDecrypted m in hexadecimal:\\t\", decrypted_m)",
      "execution_count": 12,
      "outputs": []
    },
    {
      "metadata": {},
      "cell_type": "markdown",
      "source": "# Modes of Operation"
    },
    {
      "metadata": {},
      "cell_type": "markdown",
      "source": "### Padding Functions"
    },
    {
      "metadata": {
        "trusted": true
      },
      "cell_type": "code",
      "source": "# Padding scheme 1: Append a single byte with value of 128 (decimal) (80 hex),\n# then add as many as zero bytes as required to complete block\n\ndef apply_padding_s1(hex_m):\n    hex_m_padded = hex_m\n    rem = len(hex_m) % 16\n    \n    if rem > 0:\n        # add padding\n        padding_len = 16-rem\n        if padding_len == 2:\n            hex_m_padded = hex_m+\"80\" # 80 = hex for 128\n        elif padding_len > 2:\n            no_of_zeros = (padding_len-2)\n            hex_m_padded = hex_m+\"80\"\n            for i in range(no_of_zeros):\n                hex_m_padded = hex_m_padded+\"0\"         \n                \n    return hex_m_padded\n\ndef remove_padding_s1(hex_m_padded):\n    # NEEDS WORK - how to check- careful not to split a valid 128 dec (80 in hex) characters\n    hex_m = hex_m_padded.rsplit('80', 1)\n    return hex_m[0]\n\n\n# Testing padding functions\nif debug >= 2:\n    m1 = \"ABCDEFGH\"\n    m2 = \"ABCDEFGHI\"\n    m3 = \"ABCDEFGHIJK\"\n    \n    cPrint(\"Test Padding Functions\", \"bold\")\n    print(\"\\r\")\n    \n    cPrint(\"m1\", \"underline\")\n    print(\"ascii:\\t\\t\\t\", m1)\n    print(\"hex:\\t\\t\\t\", convert_ascii_to_hex(m1))\n    hex_m1_padded = apply_padding_s1(convert_ascii_to_hex(m1))\n    print(\"hex padded:\\t\\t\", hex_m1_padded)\n    print(\"\\r\")\n    \n    cPrint(\"m2\", \"underline\")\n    print(\"ascii:\\t\\t\\t\", m2)\n    print(\"hex:\\t\\t\\t\", convert_ascii_to_hex(m2))\n    hex_m2_padded = apply_padding_s1(convert_ascii_to_hex(m2))\n    print(\"hex padded:\\t\\t\", hex_m2_padded)\n    print(\"\\r\")\n    \n    cPrint(\"m3\", \"underline\")\n    print(\"ascii:\\t\\t\\t\", m3)\n    print(\"hex:\\t\\t\\t\", convert_ascii_to_hex(m3))\n    hex_m3_padded = apply_padding_s1(convert_ascii_to_hex(m3))\n    print(\"hex padded:\\t\\t\", hex_m3_padded)\n    print(\"hex padding removed:\\t\", remove_padding_s1(hex_m3_padded))\n    print(\"ascii padding removed:\\t\", convert_hex_to_ascii(remove_padding_s1(hex_m3_padded)))\n    print(\"\\r\")",
      "execution_count": 13,
      "outputs": []
    },
    {
      "metadata": {},
      "cell_type": "markdown",
      "source": "### Block Functions"
    },
    {
      "metadata": {
        "trusted": true
      },
      "cell_type": "code",
      "source": "def split_into_blocks(input_hex, block_length):\n    hex_blocks = [input_hex[i:i+block_length] for i in range(0, len(input_hex), block_length)]\n    return hex_blocks",
      "execution_count": 14,
      "outputs": []
    },
    {
      "metadata": {},
      "cell_type": "markdown",
      "source": "### Electronic Code Book (ECB) Mode"
    },
    {
      "metadata": {
        "trusted": true
      },
      "cell_type": "code",
      "source": "# Input m (ascii) & k (hex)\nk = '01AF5E32134C8FA3' # hex 8x2 (16) char / 64 bits\n# m = \"Hello World!\" # n lenght ascii\n\n# Example of why not to use ECB:\nm = 'abababababababab' # yields c = AACAFB4BFD8168DD AACAFB4BFD8168DD - Repeating block pattern\n\n\n# Begin ECB Mode encryption\nif debug >= 2:\n    cPrint(\"Encrypting\", \"bold\")\n    print(\"\\r\")\n    \n# Convert ascci m to hex\nhex_m = convert_ascii_to_hex(m)\n\n# Add padding scheme 1 to hex m\nhex_m_padded= apply_padding_s1(hex_m)\n\n# Split padded hex into blocks of 8 bytes (8 x 2 long (16) hex characters )\nhex_m_blocks = split_into_blocks(hex_m_padded, 16)\n\nif debug >= 2:\n    cPrint(\"m\", \"underline\")\n    print(m)\n    print(\"\\r\")\n    \n    cPrint(\"m Hex\", \"underline\")\n    print(hex_m)\n    print(\"\\r\")\n    \n    cPrint(\"m Hex Blocks (Post Padding)\", \"underline\")\n    print(hex_m_blocks)\n    print(\"\\r\")\n\n# Initialise cipher text c\nc=''\n\n# Loop hex blocks and encrypt\nfor block in hex_m_blocks:\n    if debug >= 3:\n        print(\"\\n[DEBUG]\\t\",\"Starting new block:\",block)\n    \n    c += encrypt_des(block,k)\n    \nif debug >= 2:\n    cPrint(\"Cipher text (Hex)\", \"underline\")\n    print(c)\n    print(\"\\r\")\n\n    \n####################################################################################\n    \n\n# Begin ECB Mode decryption\nif debug >= 2:\n    print(\"\\r\")\n    cPrint(\"Decrypting\", \"bold\")\n    print(\"\\r\")\n\n# Split c into blocks for decryption\nhex_c_blocks = split_into_blocks(c, 16)\n\nif debug >= 2:\n    cPrint(\"c Hex Blocks\", \"underline\")\n    print(hex_c_blocks)\n    print(\"\\r\")\n\n# Initialise decrypted message\ndecrypted_m = ''\n\n# Loop hex blocks and encrypt\nfor block in hex_c_blocks:\n    if debug >= 3:\n        print(\"\\n[DEBUG]\\t\",\"Starting new block:\",block)\n        \n    decrypted_m += decrypt_des(block,k)\n    \n    \nif debug >= 2:\n    cPrint(\"Decrypted m (Padded) (Hex)\", \"underline\")\n    print(decrypted_m)\n    print(\"\\r\")\n    \n    cPrint(\"Decrypted m (Hex)\", \"underline\")\n    print(remove_padding_s1(decrypted_m))\n    print(\"\\r\")\n    \n    cPrint(\"Decrypted m (ascii)\", \"underline\")\n    print(convert_hex_to_ascii(remove_padding_s1(decrypted_m)))\n    print(\"\\r\")\n",
      "execution_count": 15,
      "outputs": []
    },
    {
      "metadata": {},
      "cell_type": "markdown",
      "source": "### Cipher Block Chain (CBC) Mode"
    },
    {
      "metadata": {
        "trusted": true
      },
      "cell_type": "code",
      "source": "# Input m (ascii) & k (hex)\nk = '01AF5E32134C8FA3' # hex 8x2 (16) char / 64 bits\niv = '3729F3A8E332ECC7' # hex 8x2 (16) char / 64 bits\nm = \"Hello World! This is a test of DES encryption\" # n lenght ascii\n\n# ECB Example with CBC:\n# m = 'abababababababab' # yields c = C549D346632BF31F 80DC7FFF1F7FFFB1 - block chain mode\n\n\n# Begin ECB Mode encryption\nif debug >= 1:\n    cPrint(\"Encrypting\", \"bold\")\n    print(\"\\r\")\n    \n# Convert ascci m to hex\nhex_m = convert_ascii_to_hex(m)\n\n# Add padding scheme 1 to hex m\nhex_m_padded= apply_padding_s1(hex_m)\n\n# Split padded hex into blocks of 8 bytes (8 x 2 long (16) hex characters )\nhex_m_blocks = split_into_blocks(hex_m_padded, 16)\n\nif debug >= 1:\n    cPrint(\"m\", \"underline\")\n    print(m)\n    print(\"\\r\")\n    \n    cPrint(\"m Hex\", \"underline\")\n    print(hex_m)\n    print(\"\\r\")\n    \n    cPrint(\"m Hex Blocks (Post Padding)\", \"underline\")\n    print(hex_m_blocks)\n    print(\"\\r\")\n\n# Initialise cipher text c\nc=''\n\ntransformer = iv\n\n# Loop hex blocks and encrypt\nfor block in hex_m_blocks:\n    if debug >= 3:\n        print(\"\\n[DEBUG]\\t\",\"Starting new block:\",block)\n    \n    # convert hex to binary for xor\n    transformer_in_binary = convert_hex_to_binary(transformer)\n    block_in_binary = convert_hex_to_binary(block)\n    \n    # xor\n    transformed_block_binary = xor(transformer_in_binary,block_in_binary)\n    \n    # convert back to hex so encrypt_des will accept input\n    transformed_block_hex = convert_binary_to_hex(transformed_block_binary)\n    \n    #Encrypt block \n    c_block = encrypt_des(transformed_block_hex,k)\n    \n    # Append block \n    c += c_block\n    \n    # Set the cipher of current block to be used as transformer in next block\n    transformer = c_block\n    \n    \nif debug >= 1:\n    cPrint(\"Cipher text (Hex)\", \"underline\")\n    print(c)\n    print(\"\\r\")\n\n    \n####################################################################################\n    \n\n# Begin ECB Mode decryption\nif debug >= 1:\n    print(\"\\r\")\n    cPrint(\"Decrypting\", \"bold\")\n    print(\"\\r\")\n\n# Split c into blocks for decryption\nhex_c_blocks = split_into_blocks(c, 16)\n\nif debug >= 1:\n    cPrint(\"c Hex Blocks\", \"underline\")\n    print(hex_c_blocks)\n    print(\"\\r\")\n\n# Initialise decrypted message\ndecrypted_m = ''\n\n# Loop hex blocks and encrypt\nfor block in reversed(hex_c_blocks):\n    if debug >= 3:\n        print(\"\\n[DEBUG]\\t\",\"Starting new block:\",block)\n        \n    if hex_c_blocks.index(block) == 0:\n        # use static iv\n        transformer = iv\n        \n    else:\n        # use cn-1\n        transformer = hex_c_blocks[hex_c_blocks.index(block)-1]\n    \n    # Decrypt block \n    d_block = decrypt_des(block,k)\n    \n    # convert hex to binary for xor\n    transformer_in_binary = convert_hex_to_binary(transformer)\n    d_block_in_binary = convert_hex_to_binary(d_block)\n    \n    # xor\n    transformed_d_block_binary = xor(transformer_in_binary,d_block_in_binary)\n    \n    # convert back to hex so encrypt_des will accept input\n    transformed_d_block_hex = convert_binary_to_hex(transformed_d_block_binary)\n    \n    # Append block \n    decrypted_m = transformed_d_block_hex + decrypted_m\n    \n    \nif debug >= 1:\n    cPrint(\"Decrypted m (Padded) (Hex)\", \"underline\")\n    print(decrypted_m)\n    print(\"\\r\")\n    \n    cPrint(\"Decrypted m (Hex)\", \"underline\")\n    print(remove_padding_s1(decrypted_m))\n    print(\"\\r\")\n    \n    cPrint(\"Decrypted m (ascii)\", \"underline\")\n    print(convert_hex_to_ascii(remove_padding_s1(decrypted_m)))\n    print(\"\\r\")",
      "execution_count": 16,
      "outputs": [
        {
          "output_type": "stream",
          "text": "\u001b[1mEncrypting\u001b[0m\n\r\n\u001b[4mm\u001b[0m\nHello World! This is a test of DES encryption\n\r\n\u001b[4mm Hex\u001b[0m\n48656c6c6f20576f726c6421205468697320697320612074657374206f662044455320656e6372797074696f6e\n\r\n\u001b[4mm Hex Blocks (Post Padding)\u001b[0m\n['48656c6c6f20576f', '726c642120546869', '7320697320612074', '657374206f662044', '455320656e637279', '7074696f6e800000']\n\r\n\u001b[4mCipher text (Hex)\u001b[0m\n8963FCACD422C99BE82A32FE7B81305AD8B827EA8C98833B295E5A37E88204DF71B533C38E39B2A95643C1C44B8BE32B\n\r\n\r\n\u001b[1mDecrypting\u001b[0m\n\r\n\u001b[4mc Hex Blocks\u001b[0m\n['8963FCACD422C99B', 'E82A32FE7B81305A', 'D8B827EA8C98833B', '295E5A37E88204DF', '71B533C38E39B2A9', '5643C1C44B8BE32B']\n\r\n\u001b[4mDecrypted m (Padded) (Hex)\u001b[0m\n48656C6C6F20576F726C6421205468697320697320612074657374206F662044455320656E6372797074696F6E800000\n\r\n\u001b[4mDecrypted m (Hex)\u001b[0m\n48656C6C6F20576F726C6421205468697320697320612074657374206F662044455320656E6372797074696F6E\n\r\n\u001b[4mDecrypted m (ascii)\u001b[0m\nHello World! This is a test of DES encryption\n\r\n",
          "name": "stdout"
        }
      ]
    },
    {
      "metadata": {
        "trusted": true
      },
      "cell_type": "code",
      "source": "",
      "execution_count": null,
      "outputs": []
    }
  ],
  "metadata": {
    "kernelspec": {
      "name": "python36",
      "display_name": "Python 3.6",
      "language": "python"
    },
    "language_info": {
      "mimetype": "text/x-python",
      "nbconvert_exporter": "python",
      "name": "python",
      "pygments_lexer": "ipython3",
      "version": "3.6.6",
      "file_extension": ".py",
      "codemirror_mode": {
        "version": 3,
        "name": "ipython"
      }
    }
  },
  "nbformat": 4,
  "nbformat_minor": 2
}