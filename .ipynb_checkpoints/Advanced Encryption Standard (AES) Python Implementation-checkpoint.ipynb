{
  "cells": [
    {
      "metadata": {
        "collapsed": true
      },
      "cell_type": "markdown",
      "source": "# Advanced Encryption Standard (AES) Python Implementation\nU.S. Department of Commerce. (1999). FIPS PUB 179: Advanced Encryption Standard (AES). Available at: https://csrc.nist.gov/publications/detail/fips/197/final [Accessed 8 February 2020]."
    },
    {
      "metadata": {},
      "cell_type": "markdown",
      "source": "## Overview\nA. Base algorithm\n  1. Round Key Generation\n  2. Cipher - Encryption:    i. SubBytes,     ii. ShiftRows,     iii. MixColuns,    iv. xor round key\n  3. Cipher - Decryption"
    },
    {
      "metadata": {},
      "cell_type": "markdown",
      "source": "### Import and Script Operation Variables"
    },
    {
      "metadata": {
        "trusted": true
      },
      "cell_type": "code",
      "source": "import sys",
      "execution_count": 1,
      "outputs": []
    },
    {
      "metadata": {
        "trusted": true
      },
      "cell_type": "code",
      "source": "debug = 1 # Debug level 0 - 3, where 0 is no debug messages # 3 = detailed",
      "execution_count": 2,
      "outputs": []
    },
    {
      "metadata": {},
      "cell_type": "markdown",
      "source": "### Static Variables"
    },
    {
      "metadata": {
        "trusted": true
      },
      "cell_type": "code",
      "source": "aes_sbox     = [['63','7c','77','7b','f2','6b','6f','c5','30','01','67','2b','fe','d7','ab','76'],\n                ['ca','82','c9','7d','fa','59','47','f0','ad','d4','a2','af','9c','a4','72','c0'],\n                ['b7','fd','93','26','36','3f','f7','cc','34','a5','e5','f1','71','d8','31','15'],\n                ['04','c7','23','c3','18','96','05','9a','07','12','80','e2','eb','27','b2','75'],\n                ['09','83','2c','1a','1b','6e','5a','a0','52','3b','d6','b3','29','e3','2f','84'],\n                ['53','d1','00','ed','20','fc','b1','5b','6a','cb','be','39','4a','4c','58','cf'],\n                ['d0','ef','aa','fb','43','4d','33','85','45','f9','02','7f','50','3c','9f','a8'],\n                ['51','a3','40','8f','92','9d','38','f5','bc','b6','da','21','10','ff','f3','d2'],\n                ['cd','0c','13','ec','5f','97','44','17','c4','a7','7e','3d','64','5d','19','73'],\n                ['60','81','4f','dc','22','2a','90','88','46','ee','b8','14','de','5e','0b','db'],\n                ['e0','32','3a','0a','49','06','24','5c','c2','d3','ac','62','91','95','e4','79'],\n                ['e7','c8','37','6d','8d','d5','4e','a9','6c','56','f4','ea','65','7a','ae','08'],\n                ['ba','78','25','2e','1c','a6','b4','c6','e8','dd','74','1f','4b','bd','8b','8a'],\n                ['70','3e','b5','66','48','03','f6','0e','61','35','57','b9','86','c1','1d','9e'],\n                ['e1','f8','98','11','69','d9','8e','94','9b','1e','87','e9','ce','55','28','df'],\n                ['8c','a1','89','0d','bf','e6','42','68','41','99','2d','0f','b0','54','bb','16']]\n\ninv_aes_sbox = [['52','09','6a','d5','30','36','a5','38','bf','40','a3','9e','81','f3','d7','fb'],\n                ['7c','e3','39','82','9b','2f','ff','87','34','8e','43','44','c4','de','e9','cb'],\n                ['54','7b','94','32','a6','c2','23','3d','ee','4c','95','0b','42','fa','c3','4e'],\n                ['08','2e','a1','66','28','d9','24','b2','76','5b','a2','49','6d','8b','d1','25'],\n                ['72','f8','f6','64','86','68','98','16','d4','a4','5c','cc','5d','65','b6','92'],\n                ['6c','70','48','50','fd','ed','b9','da','5e','15','46','57','a7','8d','9d','84'],\n                ['90','d8','ab','00','8c','bc','d3','0a','f7','e4','58','05','b8','b3','45','06'],\n                ['d0','2c','1e','8f','ca','3f','0f','02','c1','af','bd','03','01','13','8a','6b'],\n                ['3a','91','11','41','4f','67','dc','ea','97','f2','cf','ce','f0','b4','e6','73'],\n                ['96','ac','74','22','e7','ad','35','85','e2','f9','37','e8','1c','75','df','6e'],\n                ['47','f1','1a','71','1d','29','c5','89','6f','b7','62','0e','aa','18','be','1b'],\n                ['fc','56','3e','4b','c6','d2','79','20','9a','db','c0','fe','78','cd','5a','f4'],\n                ['1f','dd','a8','33','88','07','c7','31','b1','12','10','59','27','80','ec','5f'],\n                ['60','51','7f','a9','19','b5','4a','0d','2d','e5','7a','9f','93','c9','9c','ef'],\n                ['a0','e0','3b','4d','ae','2a','f5','b0','c8','eb','bb','3c','83','53','99','61'],\n                ['17','2b','04','7e','ba','77','d6','26','e1','69','14','63','55','21','0c','7d']]\n\nmix_matrix       = [['02', '03', '01', '01'],\n                    ['01', '02', '03', '01'],\n                    ['01', '01', '02', '03'],\n                    ['03', '01', '01', '02']]\n\ninv_mix_matrix   = [['0e', '0b', '0d', '09'],\n                    ['09', '0e', '0b', '0d'],\n                    ['0d', '09', '0e', '0b'],\n                    ['0b', '0d', '09', '0e']]",
      "execution_count": 3,
      "outputs": []
    },
    {
      "metadata": {},
      "cell_type": "markdown",
      "source": "### Functions (from DES)"
    },
    {
      "metadata": {
        "trusted": true
      },
      "cell_type": "code",
      "source": "# Custom print formatting\ndef cPrint(str, format):\n    out = str\n    if format == \"underline\":\n        out = \"\\033[4m\"+str+\"\\033[0m\"\n    elif format == \"bold\":\n        out = \"\\033[1m\"+str+\"\\033[0m\"\n    print(out)\n\ndef split_into_blocks(input_str, block_length):\n    # Function takes input_str and splits into blocks of length block_length characters\n    # eg. split_into_blocks('abc123',3) returns ['abc','123']\n    split_blocks = [input_str[i:i+block_length] for i in range(0, len(input_str), block_length)]\n    return split_blocks\n\n    \n# Binary, Hex, Ascci Conversion\ndef convert_hex_to_binary(hexdigits):\n    # Function takes hex input, converts and outputs binary\n    # eg. convert_hex_to_binary('1F') returns '11111'\n    binarydigits = \"\"\n    for hexdigit in hexdigits:\n        binarydigits += bin(int(hexdigit,16))[2:].zfill(4)\n    return binarydigits\n\ndef convert_binary_to_hex(binarydigits):\n    # Function takes binary input, converts and outputs hex\n    # eg. convert_hex_to_binary('11111') returns '1F'\n    hexdigits = '%0*X' % ((len(binarydigits) + 3) // 4, int(binarydigits, 2))\n    return hexdigits\n\ndef convert_ascii_to_hex(ascii_input):\n    # Function takes ascii input, converts and outputs hex\n    # eg. convert_ascii_to_hex('abc') returns '616263'\n    return ''.join([hex(ord(c))[2:].zfill(2) for c in ascii_input])\n\ndef convert_hex_to_ascii(hex_input):\n    # Function takes hex input, converts and outputs ascii\n    # eg. convert_hex_to_ascii('616263') returns 'abc'\n    return ''.join([chr(int(''.join(c), 16)) for c in zip(hex_input[0::2],hex_input[1::2])])\n\n\ndef xor(x,y):\n    # Function performs manual bitwise exclusive or ie. x ^ y where x and y are binary\n    # Example: xor('110001001100011','110010001100101') returns '000011000000110'\n    \n    result = \"\"\n    for i in range(len(x)):\n        if x[i] == y[i]: result += '0'\n        else: result += '1'\n    return result\n\n\ndef xor_hex(x,y):\n    # Function performs manual bitwise exclusive or ie. x ^ y where x and y are hex\n    # Example: xor_hex('6263','6465') returns '0606'\n    \n    binary_x = convert_hex_to_binary(x)\n    binary_y = convert_hex_to_binary(y)\n    \n    result = \"\"\n    for i in range(len(binary_x)):\n        if binary_x[i] == binary_y[i]: result += '0'\n        else: result += '1'\n    return convert_binary_to_hex(result)\n\n\ndef xor_hex_grid(grid1, grid2):\n    # Function performs manual bitwise exclusive or ie. x ^ y where x and y are hex and the grid schema are the same\n    xor_output = [] \n    for i, column in enumerate(grid1):\n        xor_output.append([])\n        for j, row in enumerate(column):\n            binary_input1 = convert_hex_to_binary(row)\n            binary_input2 = convert_hex_to_binary(grid2[i][j])\n\n            result = \"\"\n            for index in range(len(binary_input1)):\n                if binary_input1[index] == binary_input2[index]: \n                    result += '0'\n                else:\n                    result += '1'\n            \n            xor_output[i].append(convert_binary_to_hex(result))\n\n    return xor_output\n\n\ndef apply_permutation(permuted_choice_table,ini_input):\n    # Function takes an initial input (ini_input) and permutes using static permuted_choice_table\n    if debug >= 3: print(\"[DEBUG]\\tStarting function apply_permutation\\n\\tInput:\",ini_input)\n        \n    permutated_out = \"\"\n    \n    for hex_char in split_into_blocks(ini_input, 2):\n        \n        lookup_row_index = int(str(hex_char[:1]), 16) # Convert the first hex bit into decimal for row lookup\n        lookup_col_index = int(str(hex_char[1:]), 16) # Convert the second hex bit into decimal for column lookup\n        \n        sbox_value = permuted_choice_table[lookup_row_index][lookup_col_index]\n    \n        permutated_out += sbox_value\n        \n        # Print if debug level >= 3\n        if debug >= 3: print(\"\\tLookup hex:\",hex_char, \"Returned value:\",sbox_value, \"( Lookup Ref (Row x Column)\",lookup_row_index,\"x\",lookup_col_index,\")\")\n    \n    if debug >= 3: print(\"[DEBUG]\\tPermutated output :\",permutated_out)\n            \n    return permutated_out\n\ndef list_to_string(list):\n    # Function takes a grid list and converts to string to string\n    \n    cipher_string = ''\n    for i, row in enumerate(list):\n        for j, column in enumerate(row):\n            cipher_string += column\n    return cipher_string",
      "execution_count": 4,
      "outputs": []
    },
    {
      "metadata": {},
      "cell_type": "markdown",
      "source": "## Key Expansion (Generating Round Key )"
    },
    {
      "metadata": {},
      "cell_type": "markdown",
      "source": "### Functions for Generating Round Key "
    },
    {
      "metadata": {
        "trusted": true
      },
      "cell_type": "code",
      "source": "# Function to rotate bits\ndef RotWord(input_bits): # Improvement; Could use left shift function from DES\n    # Rotate = Circular left shift 2 bits\n    if debug >= 3: print(\"[DEBUG]\\tStarting function RotWord\")\n    \n    rotated_bits = input_bits[2:] + input_bits[:2]\n    if debug >= 3: print(\"\\tInput:\",input_bits,\"Rotated output:\",rotated_bits)\n        \n    return rotated_bits\n\n\n# Wrapper for apply_permutation\ndef SubWord(input_hex):\n    if debug >= 3: print(\"[DEBUG]\\tStarting function SubWord\")\n    return apply_permutation(aes_sbox,input_hex)\n\n\ndef gen_rcon(round):\n    # https://crypto.stackexchange.com/questions/2418/how-to-use-rcon-in-key-expansion-of-128-bit-advanced-encryption-standard\n    \n    if debug >= 3: print(\"[DEBUG]\\tStarting function gen_rcon\\n\\tround:\",round)\n    rcon = 0x8d\n    for i in range(0, round):\n        rcon = (rcon<<1) ^ (0x11b & -(rcon>>7)) #& 0xff\n    return hex(rcon)[2:].zfill(2)+'000000'\n",
      "execution_count": 5,
      "outputs": []
    },
    {
      "metadata": {},
      "cell_type": "markdown",
      "source": "### Generate Round Keys"
    },
    {
      "metadata": {},
      "cell_type": "markdown",
      "source": "## Cipher"
    },
    {
      "metadata": {
        "trusted": true
      },
      "cell_type": "code",
      "source": "def generate_round_keys(k, Nk, Nb, Nr):\n    \n    if debug >= 2: print(\"\\n[DEBUG]\\tStarting function generate_round_keys with variables:\\n\\tk:\",k,\"Nk:\",Nk,\"Nb:\",Nb,\"Nr:\",Nr)\n\n    # Split key (k) into 4 keys (8 bit each) \n    split_key = split_into_blocks(k, 8)\n        \n    if debug >= 2: print(\"[DEBUG]\\tSplit key Array:\", split_key)\n\n    # Seed last split key into expander\n    state = (split_key[-1])\n    \n    #key_num = 0\n    gen_key = [split_key[i * 4:(i + 1) * 4] for i in range((len(split_key) + 4 - 1) // 4 )]\n    key_num = len(gen_key) -1\n#     print(gen_key)\n#     sys.exit()\n    #= [split_key[i * n:(i + 1) * n] for i in range((len(split_key) + n - 1) // n )]\n    \n    if debug >= 2: print(\"[DEBUG]\\tStarting loop range\",(Nr+1)*4)\n        \n    for i in range(Nk, (Nr+1)*Nb):\n        if (i % Nb) == 0:\n            key_num += 1\n            if debug >= 2: print(\"[DEBUG]\\tStarting new key\", key_num,\"on iteration:\",i,\"with new Rcon:\",gen_rcon(int(i/Nk)))\n            gen_key.append([])\n            \n        if (i % Nk) == 0: # was Nk\n\n            state = xor_hex(SubWord(RotWord(state)),gen_rcon(int(i/Nk)))\n            if debug >= 2: print(\"[DEBUG]\\tAfter XOR with Rcon\\t\", state)\n            \n        if Nk > 6 and i % Nk == 4:\n            state = SubWord(state)\n            if debug >= 2: print(\"After SubWord\\t\\t\", state)\n            \n\n        if debug >= 2: print(\"[DEBUG]\\tw[i–Nk]\\t\\t\\t\", split_key[i-Nk])\n\n        next_key_section = xor_hex(state,split_key[i-Nk])\n        if debug >= 2: print(\"[DEBUG]\\tw[i]= temp XOR w[i-Nk]\\t\", next_key_section)\n\n        split_key.append(next_key_section)  \n       \n        gen_key[key_num].append(next_key_section)\n        \n        state = next_key_section\n\n    return gen_key\n",
      "execution_count": 6,
      "outputs": []
    },
    {
      "metadata": {},
      "cell_type": "markdown",
      "source": "### Functions for Cipher"
    },
    {
      "metadata": {
        "trusted": true
      },
      "cell_type": "code",
      "source": "def SubBytes(sbox, round_grid):\n    # Function looks up a round grid (128 bits), 2 bits (1 hex byte) at a time.\n    # eg. SubBytes(aes_sbox, round_grid)\n    if debug >= 3: print(\"[DEBUG]\\tStarting function SubBytes\")\n    \n    # Initialise the subbed round_grid list \n    round_grid_subbed = []\n    \n    # For each row in round_grid\n    for i, row in enumerate(round_grid):\n        \n        # Create a new 'sub-list' inside the round_grid_subbed list\n        round_grid_subbed.append([])\n        \n        # For each column in each round_grid row\n        for j, column in enumerate(row):\n            \n            # Add sbox lookup value to round_grid_subbed list\n            round_grid_subbed[i].append(apply_permutation(sbox,column))\n            \n            # debug output\n            if debug >= 3: print(\"\\tProcessing bit:\", column, \"SubBytes out:\", apply_permutation(sbox,column))\n    \n    return round_grid_subbed\n\n\ndef ShiftRows(round_grid_subbed, direction):\n    # Function takes a round grid (128 bits, 8x8), 2 bits (1 hex byte) at a time and shifts columns by the row number (base 0)\n    # eg. ShiftRows(ShiftRows, 'left')\n    \n    # Transpose the round_grid_subbed for ease of list manipulation \n    round_grid_transposed = list(map(list, zip(*round_grid_subbed)))\n    \n    # Initialise the shifed transposed list \n    round_grid_transposed_shifted = []\n    \n    # For each sub-list in list peform the shift based on the index of the sub-list (which prior to transposition is the row number)\n    for i, row in enumerate(round_grid_transposed):\n        \n        # If direction = right then make i negative by *-1\n        shift = (i*-1) if direction == 'right' else i\n        \n        # Peform shift and add to list\n        round_grid_transposed_shifted.append(row[shift:] + row[:shift])\n        \n    # Reverse transposition\n    round_grid_shifted = list(map(list, zip(*round_grid_transposed_shifted)))\n\n    # Debug printing\n    if debug >= 3: print(\"[DEBUG]\\tround_grid_transposed:\\n\", round_grid_transposed), print(\"[DEBUG]\\tround_grid_shifted:\\n\", round_grid_shifted)\n        \n    return round_grid_shifted\n\n\ndef mx2(hex_input):\n    # Function peforms multiplication of a single hex byte (two characters eg. d4) by {02} \n    # Deduced from explanation of finite field arithmetic: https://crypto.stackexchange.com/questions/2402/how-to-solve-mixcolumns/2403\n    # eg. mx2(\"d4\") = b3\n    \n    # Convert hex to binary\n    binary_input = convert_hex_to_binary(hex_input)\n    \n    # Get left most bit of binary value\n    first_bit = binary_input[0]\n    \n    # Left shift by 1 digit, add 0 to right\n    binary_left_shifted = binary_input[1:] + \"0\"\n    \n    # If the left most bit (before left shift) [first_bit] is 1 then xor with hex '1B' (bin 00011011) else do nothing\n    output_binary = xor(binary_left_shifted,\"00011011\") if first_bit == \"1\" else binary_left_shifted\n\n    return convert_binary_to_hex(output_binary) # return as hex\n\n\ndef MixColumns(round_grid_shifted,mix_matrix):\n    \n    if debug >= 3: print(\"[DEBUG]\\tStarting function MixColumns\")\n        \n    round_grid_mixed = []\n    for i, column in enumerate(round_grid_shifted):\n        round_grid_mixed.append([])\n        for j, row in enumerate(column):\n            mix_coef = mix_matrix[j]\n            temp_mix_stack = None\n            if debug >= 3: print(\"\\tCell Input:\", column[j])\n\n            for ci in range(len(mix_coef)):\n                ci_calc_out = None\n\n                if mix_coef[ci] == '01':\n                    ci_calc_out = column[ci]\n                elif mix_coef[ci] == '02':\n                    ci_calc_out = mx2(column[ci])\n                elif mix_coef[ci] == '03':\n                    ci_calc_out = xor_hex(mx2(column[ci]),column[ci])\n\n\n                if debug >= 3: print(\"\\t\\t\", column[ci],\"x\", mix_coef[ci],\"=\", ci_calc_out)\n\n                # xor output with previous \n                if temp_mix_stack:\n                    next_temp_mix_stack = xor_hex(temp_mix_stack,ci_calc_out)\n                else:\n                    next_temp_mix_stack = ci_calc_out\n\n                # set next to current for ci+1    \n                temp_mix_stack = next_temp_mix_stack\n\n            if debug >= 3: print(\"\\tCell Output=\", temp_mix_stack)\n\n            round_grid_mixed[i].append(temp_mix_stack)\n\n    return round_grid_mixed\n\n\ndef InvMixColumns(round_grid_shifted,mix_matrix):\n    # https://crypto.stackexchange.com/questions/2569/how-does-one-implement-the-inverse-of-aes-mixcolumns\n\n    if debug >= 3: print(\"[DEBUG]\\tCalculating Mix Columns\")\n        \n    round_grid_mixed = []\n        \n    for i, column in enumerate(round_grid_shifted):\n        round_grid_mixed.append([])\n        for j, row in enumerate(column):\n            mix_coef = mix_matrix[j]\n            temp_mix_stack = None\n            if debug >= 3: print(\"\\n[DEBUG]\\tCell:\", column[j])\n\n            for ci in range(len(mix_coef)):\n                ci_calc_out = None\n\n                if mix_coef[ci] == '09': # 09=9\n                    # 𝑥x9 = (((𝑥x2)x2)x2)+𝑥   (where + is xor)\n                    ci_calc_out = xor_hex(mx2(mx2(mx2(column[ci]))),column[ci])\n                    \n                elif mix_coef[ci] == '0b': # 0b=11\n                    # 𝑥x11 = ((((𝑥x2)x2)+𝑥)x2)+𝑥\n                    ci_calc_out = xor_hex(mx2(xor_hex(mx2(mx2(column[ci])),column[ci])),column[ci])\n                    \n                elif mix_coef[ci] == '0d': # 0d=13\n                    # 𝑥x13 = ((((𝑥x2)+𝑥)x2)x2)+𝑥\n                    ci_calc_out = xor_hex(mx2(mx2(xor_hex(mx2(column[ci]),column[ci]))),column[ci])\n                    \n                elif mix_coef[ci] == '0e': # 0e=14\n                    # 𝑥x14 = ((((𝑥x2)+𝑥)x2)+𝑥)x2\n                    ci_calc_out = mx2(xor_hex(mx2(xor_hex(mx2(column[ci]),column[ci])),column[ci]))\n\n                if debug >= 3: print(\"[DEBUG]\\tVal:\", column[ci],\"\\tCoef:\", mix_coef[ci],\"\\tOut:\", ci_calc_out)\n\n                # xor output with previous \n                if temp_mix_stack:\n                    next_temp_mix_stack = xor_hex(temp_mix_stack,ci_calc_out)\n                else:\n                    next_temp_mix_stack = ci_calc_out\n\n                # set next to current for ci+1    \n                temp_mix_stack = next_temp_mix_stack\n\n            if debug >= 3: print(\"[DEBUG]\\tMixedCell=\",temp_mix_stack)\n\n            round_grid_mixed[i].append(temp_mix_stack)\n\n    return round_grid_mixed\n",
      "execution_count": 7,
      "outputs": []
    },
    {
      "metadata": {},
      "cell_type": "markdown",
      "source": "### Encryption"
    },
    {
      "metadata": {
        "trusted": true
      },
      "cell_type": "code",
      "source": "def aes_encrypt(k,m, bit_mode):\n    # Function takes key (k), hex message (m) and bit mode integer (bit_mode) and encrypts using AES.\n    # eg. aes_encrypt('2b7e151628aed2a6abf7158809cf4f3c','3243f6a8885a308d313198a2e0370734', 128)\n\n    \n    # Check if the bit_mode is supported\n    if not(bit_mode == 128 or bit_mode == 256): print(\"[ERROR] Bit Mode is not supported. Use '128' or '256'\"), sys.exit()\n        \n    # Set Key, Block, Round combinations based on bit_mode\n    if bit_mode == 128:    Nk = 4; Nb = 4; Nr = 10\n    elif bit_mode == 256:  Nk = 8; Nb = 4; Nr = 14\n        \n        \n    # A. Prepare Round Keys  \n    ## A1. Key Expansion: Generate 'round keys'\n    round_keys = generate_round_keys(k, Nk, Nb, Nr)\n    if debug >= 2: print(\"\\n[DEBUG]\\tround_keys:\"), print(round_keys)\n    \n    ## A2. Convert the round keys into a grid with 2 bits in each cell\n    round_keys_grid = []\n    for i in range(len(round_keys)):\n        round_keys_grid.append([])\n        for j in range(len(round_keys[i])):\n            round_keys_grid[i].append(split_into_blocks(round_keys[i][j],2))\n    if debug >= 2: print(\"\\n[DEBUG]\\t round_keys_grid:\"), print(round_keys_grid)\n  \n        \n    # B. Prepare Message  \n    ## B1. Split 128 bit message into 8 bit blocks\n    split_m = split_into_blocks(m,8)\n    if debug >= 2: print(\"\\n[DEBUG]\\t split_m:\"), print(split_m)\n\n    ## B2. Convert the message blocks into a grid with 2 bits in each cell\n    round_grid = []\n    for i in range(len(split_m)):\n        round_grid.append(split_into_blocks(split_m[i],2))\n    if debug >= 2: print(\"\\n[DEBUG]\\tround_grid:\\t\",round_grid)\n\n        \n    # C. Interations\n    # Round 1: Just xor round key (no SubBytes, ShiftRows or MixColumns)\n    # Round 2 to (Nr-1): 1. SubBytes, 2. ShiftRows, 3. MixColumns and 4. xor round key\n    # Round Nr: 1. SubBytes, 2. ShiftRows and 4. xor round key (no MixColumns)\n\n    for i in range(Nr+1): # +1 as base 0\n        if debug >= 2: print(\"\\n\\n[DEBUG]\\tRound:\",i)\n        \n        # Initialise the state \n        state = round_grid\n        \n        if i > 0: # If the round is *not* round 1\n            # 1. SubBytes\n            state = SubBytes(aes_sbox, round_grid)\n            if debug >= 2: print(\"[DEBUG]\\tsub_grid:\\t\",state)\n\n            # 2. ShiftRows\n            state = ShiftRows(state, 'left')\n            if debug >= 2: print(\"[DEBUG]\\tshift_grid:\\t\",state)\n\n            if i != Nr: # If the round is *not* the Nr round\n                # 3. MixColumns\n                state = MixColumns(state,mix_matrix)\n                if debug >= 2: print(\"[DEBUG]\\tmix_grid:\\t\",state)\n\n        # 4. xor round key\n        round_grid = xor_hex_grid(state, round_keys_grid[i])\n        if debug >= 2: print(\"[DEBUG]\\tround_key:\\t\",round_keys_grid[i]), print(\"[DEBUG]\\txor:\\t\\t\",round_grid)\n        \n    return round_grid",
      "execution_count": 8,
      "outputs": []
    },
    {
      "metadata": {},
      "cell_type": "markdown",
      "source": "### Decryption"
    },
    {
      "metadata": {
        "trusted": true
      },
      "cell_type": "code",
      "source": "def aes_decrypt(k,c, bit_mode):\n    # Function takes key (k), hex cipher (c) and bit mode integer (bit_mode) and decrypts using AES.\n    # eg. aes_decrypt('2b7e151628aed2a6abf7158809cf4f3c','3925841D02DC09FBDC118597196A0B32', 128)\n    \n    # Check if the bit_mode is supported\n    if not(bit_mode == 128 or bit_mode == 256): print(\"[ERROR] Bit Mode is not supported. Use '128' or '256'\"), sys.exit()\n        \n    # Set Key, Block, Round combinations based on bit_mode\n    if bit_mode == 128:    Nk = 4; Nb = 4; Nr = 10\n    elif bit_mode == 256:  Nk = 8; Nb = 4; Nr = 14\n\n        \n    # A. Prepare Round Keys  \n    ## A1. Key Expansion: Generate 'round keys'\n    round_keys = generate_round_keys(k, Nk, Nb, Nr)\n    if debug >= 2: print(\"[DEBUG]\\t round_keys:\",round_keys)\n\n    ## A2. Convert the round keys into a grid with 2 bits in each cell\n    round_keys_grid = []\n    for i in range(len(round_keys)):\n        round_keys_grid.append([])\n        for j in range(len(round_keys[i])):\n            round_keys_grid[i].append(split_into_blocks(round_keys[i][j],2))\n    if debug >= 2: print(\"\\n[DEBUG]\\t round_keys_grid:\\t\",round_keys_grid)\n\n        \n    # B. Prepare Cipher  \n    ## B1. Split 128 bit cipher into 8 bit blocks\n    split_c = split_into_blocks(c,8)\n    if debug >= 2: print(\"[DEBUG]\\t round_grid:\\t\",split_c)\n\n    ## B2. Convert the cipher blocks into a grid with 2 bits in each cell\n    round_grid = []\n    for i in range(len(split_c)):\n        round_grid.append(split_into_blocks(split_c[i],2))\n    if debug >= 2: print(\"[DEBUG]\\t round_grid:\\t\",round_grid)\n\n        \n    # C. Interations (reversed)\n    # Round Nr: 1. xor round key, 2.ShiftRows and 4. SubBytes (no MixColumns)\n    # Round (Nr-1) to 2: 1. xor round key, 2. MixColumns, 3. ShiftRows and 4. SubBytes \n    # Round 1: Just xor round key (no SubBytes, ShiftRows or MixColumns)\n    \n    for i in reversed(range(Nr+1)): # + 1 as base 0\n        if debug >= 2: print(\"\\n\\n[DEBUG]\\t Round:\",i)\n        state = round_grid\n        \n        # 1. xor round key\n        state = xor_hex_grid(state, round_keys_grid[i])\n        if debug >= 2: print(\"[DEBUG]\\t round_key:\\t\",round_keys_grid[i]), print(\"[DEBUG]\\t xor:\\t\\t\",state)\n        \n        if i > 0: # If the round is *not* round 1\n            if i != Nr: # If the round is *not* the Nr round\n                # 2. Inverse MixColumns\n                state = InvMixColumns(state,inv_mix_matrix)\n                if debug >= 2: print(\"[DEBUG]\\t mix_grid:\\t\",state)\n                   \n            # 3. ShiftRows (right)\n            state = ShiftRows(state, 'right')\n            if debug >= 2: print(\"[DEBUG]\\t shift_grid:\\t\",state)\n\n            # 4. Inverse SubBytes\n            state = SubBytes(inv_aes_sbox, state)\n            if debug >= 2: print(\"[DEBUG]\\t sub_grid:\\t\",state)\n\n        round_grid = state\n        \n    return round_grid\n",
      "execution_count": 9,
      "outputs": []
    },
    {
      "metadata": {},
      "cell_type": "markdown",
      "source": "# Modes of Operation"
    },
    {
      "metadata": {},
      "cell_type": "markdown",
      "source": "## Padding Functions"
    },
    {
      "metadata": {
        "trusted": true
      },
      "cell_type": "code",
      "source": "def apply_padding_s1(hex_m):\n    hex_m_padded = hex_m\n    rem = len(hex_m) % 32\n    \n    if rem > 0:\n        # add padding\n        padding_len = 32-rem\n        if padding_len == 2:\n            hex_m_padded = hex_m+\"80\" # 80 = hex for 128\n        elif padding_len > 2:\n            no_of_zeros = (padding_len-2)\n            hex_m_padded = hex_m+\"80\"\n            for i in range(no_of_zeros):\n                hex_m_padded = hex_m_padded+\"0\"         \n                \n    return hex_m_padded\n\ndef remove_padding_s1(hex_m_padded):\n    # NEEDS WORK - how to check- careful not to split a valid 128 dec (80 in hex) characters\n    hex_m = hex_m_padded.rsplit('80', 1)\n    return hex_m[0]",
      "execution_count": 10,
      "outputs": []
    },
    {
      "metadata": {},
      "cell_type": "markdown",
      "source": "## Cipher Block Chain (CBC) Mode"
    },
    {
      "metadata": {},
      "cell_type": "markdown",
      "source": "### Encryption"
    },
    {
      "metadata": {
        "trusted": true
      },
      "cell_type": "code",
      "source": "# Input m (ascii) & k (hex)\n\n# 128 bit test\n# m = '3243f6a8885a308d313198a2e0370734' # Test m1\n# m = '00112233445566778899aabbccddeeff' # Test m2\nk = '2b7e151628aed2a6abf7158809cf4f3c'\n\n# 256 bit test\n# m = '00112233445566778899aabbccddeeff' # Test m1\n# k = '000102030405060708090a0b0c0d0e0f101112131415161718191a1b1c1d1e1f'\n\niv = '3A8E3A8E332ECC7323729FECC73729F3' # hex 8x2 (16) char / 64 bits\nm = \"Hello World! This is a test of AES encryption.\" # n lenght ascii\n\n\n# Begin ECB Mode encryption\nif debug >= 1:\n    cPrint(\"Encrypting\", \"bold\")\n    print(\"\\r\")\n    \n# Convert ascci m to hex\nhex_m = convert_ascii_to_hex(m)\n\n# Add padding scheme 1 to hex m\nhex_m_padded= apply_padding_s1(hex_m)\n\n# Split padded hex into blocks of 8 bytes (8 x 2 long (16) hex characters )\nhex_m_blocks = split_into_blocks(hex_m_padded, 32)\n\nif debug >= 1:\n    cPrint(\"m\", \"underline\")\n    print(m)\n    print(\"\\r\")\n    \n    cPrint(\"m Hex\", \"underline\")\n    print(hex_m)\n    print(\"\\r\")\n    \n    cPrint(\"m Hex Blocks (Post Padding)\", \"underline\")\n    print(hex_m_blocks)\n    print(\"\\r\")\n\n# Initialise cipher text c\nc=''\n\ntransformer = iv\n\n# Loop hex blocks and encrypt\nfor block in hex_m_blocks:\n    if debug >= 3:\n        print(\"\\n[DEBUG]\\t\",\"Starting new block:\",block)\n    \n    # xor\n    transformed_block = xor_hex(transformer,block)\n\n    #Encrypt block \n    c_block = list_to_string(aes_encrypt(k,transformed_block, 128))\n    \n    # Append block \n    c += c_block\n    \n    # Set the cipher of current block to be used as transformer in next block\n    transformer = c_block\n    \n    \nif debug >= 1:\n    cPrint(\"Cipher text (Hex)\", \"underline\")\n    print(c)\n    print(\"\\r\")\n",
      "execution_count": 11,
      "outputs": [
        {
          "output_type": "stream",
          "text": "\u001b[1mEncrypting\u001b[0m\n\r\n\u001b[4mm\u001b[0m\nHello World! This is a test of AES encryption.\n\r\n\u001b[4mm Hex\u001b[0m\n48656c6c6f20576f726c6421205468697320697320612074657374206f662041455320656e6372797074696f6e2e\n\r\n\u001b[4mm Hex Blocks (Post Padding)\u001b[0m\n['48656c6c6f20576f726c642120546869', '7320697320612074657374206f662041', '455320656e6372797074696f6e2e8000']\n\r\n\u001b[4mCipher text (Hex)\u001b[0m\nE8471311A31371E60948771851DAFA8D022F80631274480D6E70A4B77645F8460A1C640DCC96AA97E3C926C5A593ECD3\n\r\n",
          "name": "stdout"
        }
      ]
    },
    {
      "metadata": {},
      "cell_type": "markdown",
      "source": "### Decryption"
    },
    {
      "metadata": {
        "trusted": true
      },
      "cell_type": "code",
      "source": "# Begin ECB Mode decryption\nif debug >= 1:\n    print(\"\\r\")\n    cPrint(\"Decrypting\", \"bold\")\n    print(\"\\r\")\n\n# Split c into blocks for decryption\nhex_c_blocks = split_into_blocks(c, 32)\n\nif debug >= 1:\n    cPrint(\"c Hex Blocks\", \"underline\")\n    print(hex_c_blocks)\n    print(\"\\r\")\n\n# Initialise decrypted message\ndecrypted_m = ''\n\n# Loop hex blocks and encrypt\nfor block in reversed(hex_c_blocks):\n    if debug >= 3:\n        print(\"\\n[DEBUG]\\t\",\"Starting new block:\",block)\n        \n    if hex_c_blocks.index(block) == 0:\n        # use static iv\n        transformer = iv\n        \n    else:\n        # use cn-1\n        transformer = hex_c_blocks[hex_c_blocks.index(block)-1]\n    \n    # Decrypt block \n    d_block = list_to_string(aes_decrypt(k,block, 128))\n    \n    # xor\n    transformed_d_block = xor_hex(transformer,d_block)\n    \n    # Append block \n    decrypted_m = transformed_d_block + decrypted_m\n    \n    \nif debug >= 1 :\n    cPrint(\"Decrypted m (Padded) (Hex)\", \"underline\")\n    print(decrypted_m)\n    print(\"\\r\")\n    \n    cPrint(\"Decrypted m (Hex)\", \"underline\")\n    print(remove_padding_s1(decrypted_m))\n    print(\"\\r\")\n    \n    cPrint(\"Decrypted m (ascii)\", \"underline\")\n    print(convert_hex_to_ascii(remove_padding_s1(decrypted_m)))\n    print(\"\\r\")",
      "execution_count": 12,
      "outputs": [
        {
          "output_type": "stream",
          "text": "\r\n\u001b[1mDecrypting\u001b[0m\n\r\n\u001b[4mc Hex Blocks\u001b[0m\n['E8471311A31371E60948771851DAFA8D', '022F80631274480D6E70A4B77645F846', '0A1C640DCC96AA97E3C926C5A593ECD3']\n\r\n\u001b[4mDecrypted m (Padded) (Hex)\u001b[0m\n48656C6C6F20576F726C6421205468697320697320612074657374206F662041455320656E6372797074696F6E2E8000\n\r\n\u001b[4mDecrypted m (Hex)\u001b[0m\n48656C6C6F20576F726C6421205468697320697320612074657374206F662041455320656E6372797074696F6E2E\n\r\n\u001b[4mDecrypted m (ascii)\u001b[0m\nHello World! This is a test of AES encryption.\n\r\n",
          "name": "stdout"
        }
      ]
    }
  ],
  "metadata": {
    "kernelspec": {
      "name": "python36",
      "display_name": "Python 3.6",
      "language": "python"
    },
    "language_info": {
      "mimetype": "text/x-python",
      "nbconvert_exporter": "python",
      "name": "python",
      "pygments_lexer": "ipython3",
      "version": "3.6.6",
      "file_extension": ".py",
      "codemirror_mode": {
        "version": 3,
        "name": "ipython"
      }
    }
  },
  "nbformat": 4,
  "nbformat_minor": 2
}