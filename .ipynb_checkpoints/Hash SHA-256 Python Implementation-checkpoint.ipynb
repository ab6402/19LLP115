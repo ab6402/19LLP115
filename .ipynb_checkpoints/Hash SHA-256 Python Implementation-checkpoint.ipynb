{
  "cells": [
    {
      "metadata": {},
      "cell_type": "markdown",
      "source": "# SHA-256 Hash Python Implementation\nU.S. Department of Commerce. (2015). Secure Hash Standard (SHS). Available at: https://nvlpubs.nist.gov/nistpubs/FIPS/NIST.FIPS.180-4.pdf [Accessed 15 February 2020]."
    },
    {
      "metadata": {
        "collapsed": true
      },
      "cell_type": "markdown",
      "source": "## High level process\n\n1. Append padding bits ( '1' + (n * '0') + (len(input) in binary))\n2. Message schedule \n3. Main loop\n"
    },
    {
      "metadata": {},
      "cell_type": "markdown",
      "source": "### Import and Script Operation Variables"
    },
    {
      "metadata": {
        "trusted": true
      },
      "cell_type": "code",
      "source": "import math, sys",
      "execution_count": 1,
      "outputs": []
    },
    {
      "metadata": {
        "trusted": true
      },
      "cell_type": "code",
      "source": "debug = 0",
      "execution_count": 2,
      "outputs": []
    },
    {
      "metadata": {},
      "cell_type": "markdown",
      "source": "### General Support Functions"
    },
    {
      "metadata": {
        "trusted": true
      },
      "cell_type": "code",
      "source": "# https://stackoverflow.com/questions/7396849/convert-binary-to-ascii-and-vice-versa\ndef text_to_bits(text, encoding='ascii', errors='surrogatepass'):\n    bits = bin(int.from_bytes(text.encode(encoding, errors), 'big'))[2:]\n    return bits.zfill(8 * ((len(bits) + 7) // 8))\n\ndef bits_to_text(bits, encoding='ascii', errors='surrogatepass'):\n    n = int(bits, 2)\n    return n.to_bytes((n.bit_length() + 7) // 8, 'big').decode(encoding, errors) or '\\0'",
      "execution_count": 3,
      "outputs": []
    },
    {
      "metadata": {
        "trusted": true
      },
      "cell_type": "code",
      "source": "def rotate(input_bits, direction, n_rotate):\n    # Rotate = Circular left shift 2 bits\n    if debug >= 3: print(\"[DEBUG]\\tStarting function rotate\")\n    rotate = (n_rotate*-1) if direction == 'right' else n_rotate\n    \n    rotated_bits = input_bits[rotate:] + input_bits[:rotate]\n    if debug >= 3: print(\"\\tInput:\",input_bits,\"Rotated output:\",rotated_bits)\n        \n    return rotated_bits\n\ndef shift(input_bits, direction, n_shift):\n    # Rotate = Circular left shift 2 bits\n    if debug >= 3: print(\"[DEBUG]\\tStarting function shift\")\n\n    shifted_bits = None\n    if direction == 'left':\n        shifted_bits = input_bits[n_shift:] + (\"0\"*n_shift)\n    elif direction == 'right':\n        shifted_bits = (\"0\"*n_shift) + input_bits[:(len(input_bits)-n_shift)]\n\n    if debug >= 3: print(\"\\tInput:\",input_bits,\"Shifted output:\",shifted_bits)\n        \n    return shifted_bits\n\n\ndef add_binary(s1, s2):\n    # https://stackoverflow.com/questions/21420447/need-help-in-adding-binary-numbers-in-python\n    if not s1 or not s2:\n        return ''\n\n    maxlen = max(len(s1), len(s2))\n\n    s1 = s1.zfill(maxlen)\n    s2 = s2.zfill(maxlen)\n\n    result  = ''\n    carry   = 0\n\n    i = maxlen - 1\n    while(i >= 0):\n        s = int(s1[i]) + int(s2[i])\n        if s == 2: #1+1\n            if carry == 0:\n                carry = 1\n                result = \"%s%s\" % (result, '0')\n            else:\n                result = \"%s%s\" % (result, '1')\n        elif s == 1: # 1+0\n            if carry == 1:\n                result = \"%s%s\" % (result, '0')\n            else:\n                result = \"%s%s\" % (result, '1')\n        else: # 0+0\n            if carry == 1:\n                result = \"%s%s\" % (result, '1')\n                carry = 0   \n            else:\n                result = \"%s%s\" % (result, '0') \n\n        i = i - 1;\n\n    if carry>0:\n        result = \"%s%s\" % (result, '1')\n    return result[::-1]\n\n# bitwize and\ndef bit_and(input1,input2):\n    \n    result = \"\"\n    for index in range(len(input1)):\n        if input1[index] == '1' and input2[index] == '1': \n            result += '1'\n        else:\n            result += '0'\n    return result\n\n# bitwize complement\ndef bit_complement(input1):\n    \n    result = \"\"\n    for index in range(len(input1)):\n        if input1[index] == '1': \n            result += '0'\n        else:\n            result += '1'\n    return result",
      "execution_count": 4,
      "outputs": []
    },
    {
      "metadata": {
        "trusted": true
      },
      "cell_type": "code",
      "source": "\ndef split_into_blocks(input_str, block_length):\n    blocks = [input_str[i:i+block_length] for i in range(0, len(input_str), block_length)]\n    return blocks\n\ndef convert_binary_to_hex(binarydigits):\n    hexdigits = '%0*X' % ((len(binarydigits) + 3) // 4, int(binarydigits, 2))\n    return hexdigits\n\ndef convert_hex_to_binary(hexdigits):\n    binarydigits = \"\"\n    for hexdigit in hexdigits:\n        binarydigits += bin(int(hexdigit,16))[2:].zfill(4)\n    return binarydigits\n\ndef convert_hex_to_ascii(hex_input):\n    return ''.join([chr(int(''.join(c), 16)) for c in zip(hex_input[0::2],hex_input[1::2])])\n\n\n# xor\ndef xor(input1,input2):\n    # xor\n    # Example: xor(input1,input2)\n    \n    result = \"\"\n    for index in range(len(input1)):\n        if input1[index] == input2[index]: \n            result += '0'\n        else:\n            result += '1'\n    return result",
      "execution_count": 5,
      "outputs": []
    },
    {
      "metadata": {},
      "cell_type": "markdown",
      "source": "## Hash generation"
    },
    {
      "metadata": {
        "trusted": true
      },
      "cell_type": "code",
      "source": "def sha256(input_str):\n\n    # initial hash value\n    H = ['6a09e667', 'bb67ae85', '3c6ef372','a54ff53a', '510e527f', '9b05688c','1f83d9ab','5be0cd19']\n\n    # constants\n    K = ['428a2f98','71374491','b5c0fbcf','e9b5dba5','3956c25b','59f111f1','923f82a4','ab1c5ed5',\n         'd807aa98','12835b01','243185be','550c7dc3','72be5d74','80deb1fe','9bdc06a7','c19bf174',\n         'e49b69c1','efbe4786','0fc19dc6','240ca1cc','2de92c6f','4a7484aa','5cb0a9dc','76f988da',\n         '983e5152','a831c66d','b00327c8','bf597fc7','c6e00bf3','d5a79147','06ca6351','14292967',\n         '27b70a85','2e1b2138','4d2c6dfc','53380d13','650a7354','766a0abb','81c2c92e','92722c85',\n         'a2bfe8a1','a81a664b','c24b8b70','c76c51a3','d192e819','d6990624','f40e3585','106aa070',\n         '19a4c116','1e376c08','2748774c','34b0bcb5','391c0cb3','4ed8aa4a','5b9cca4f','682e6ff3',\n         '748f82ee','78a5636f','84c87814','8cc70208','90befffa','a4506ceb','bef9a3f7','c67178f2']\n\n    # Convert ascii to bits\n    input_in_bits = text_to_bits(input_str)\n\n    # Work out how many bits required for the binary expression of the length of the input string\n    bin_length = math.ceil(math.log(len(input_in_bits))/math.log(2))\n\n    # Calculate the number of 64 bit blocks that are required for the bin_length\n    bit_blocks = math.ceil(bin_length/64)*64\n\n    # Decimal length in binary\n    length_in_binary = int(bin(len(input_in_bits))[2:])\n\n    length_64bit_block = str(length_in_binary).rjust(bit_blocks, '0')\n\n    zeros = \"0\" * (512-((len(length_64bit_block)+1+len(input_in_bits))%512))\n\n    padded_message = str(input_in_bits) + \"1\" + str(zeros) + str(length_64bit_block)\n\n    message_chunks = split_into_blocks(padded_message,512)\n\n    for chunk in message_chunks:\n\n        W = split_into_blocks(chunk,32)\n\n        # Extend w to form message schedule array\n        for i in range(16, 64):\n            # +̃ is addition with truncation of the result to 32-bit.\n            # https://crypto.stackexchange.com/questions/57763/in-a-very-simplistic-and-step-by-step-example-how-do-i-get-the-w-values-for-s\n\n            # Useful sudo code from: https://en.wikipedia.org/wiki/SHA-2#SHA-256_.28a_SHA-2_variant.29_pseudocode\n            s0 = xor(xor(rotate(W[i-15],'right',7),rotate(W[i-15],'right',18)),shift(W[i-15],'right',3))\n            s1 = xor(xor(rotate(W[i-2],'right',17),rotate(W[i-2],'right',19)),shift(W[i-2],'right',10))\n            temp_w = add_binary(add_binary(add_binary(W[i-16],s0),W[i-7]),s1)\n            W.append(temp_w[-32:])\n\n        # Initialise working variables\n        a = convert_hex_to_binary(H[0])\n        b = convert_hex_to_binary(H[1])\n        c = convert_hex_to_binary(H[2])\n        d = convert_hex_to_binary(H[3])\n        e = convert_hex_to_binary(H[4])\n        f = convert_hex_to_binary(H[5])\n        g = convert_hex_to_binary(H[6])\n        h = convert_hex_to_binary(H[7])\n\n        # Main loop\n        for i in range(64):\n            S1 = xor(xor(rotate(e,'right',6), rotate(e,'right',11)),rotate(e,'right',25))\n            ch = xor(bit_and(e,f),bit_and(bit_complement(e),g))\n            temp1 = add_binary(add_binary(add_binary(add_binary(h,S1),ch),convert_hex_to_binary(K[i])),W[i])[-32:]\n            S0 = xor(xor(rotate(a,'right',2), rotate(a,'right',13)),rotate(a,'right',22))\n            maj = xor(xor(bit_and(a,b),bit_and(a,c)),bit_and(b,c))\n            temp2 = add_binary(S0, maj)[-32:]\n            h = g\n            g = f\n            f = e\n            e = add_binary(d, temp1)[-32:]\n            d = c\n            c = b\n            b = a\n            a = add_binary(temp1, temp2)[-32:]\n\n        H[0] = convert_binary_to_hex(add_binary(convert_hex_to_binary(H[0]),a)[-32:])\n        H[1] = convert_binary_to_hex(add_binary(convert_hex_to_binary(H[1]),b)[-32:])\n        H[2] = convert_binary_to_hex(add_binary(convert_hex_to_binary(H[2]),c)[-32:])\n        H[3] = convert_binary_to_hex(add_binary(convert_hex_to_binary(H[3]),d)[-32:])\n        H[4] = convert_binary_to_hex(add_binary(convert_hex_to_binary(H[4]),e)[-32:])\n        H[5] = convert_binary_to_hex(add_binary(convert_hex_to_binary(H[5]),f)[-32:])\n        H[6] = convert_binary_to_hex(add_binary(convert_hex_to_binary(H[6]),g)[-32:])\n        H[7] = convert_binary_to_hex(add_binary(convert_hex_to_binary(H[7]),h)[-32:])\n\n    digest = H[0] + H[1] + H[2] + H[3] + H[4] + H[5] + H[6] + H[7]\n\n    return digest",
      "execution_count": 6,
      "outputs": []
    },
    {
      "metadata": {
        "trusted": true
      },
      "cell_type": "code",
      "source": "# Test 1\n# In: 'abc'\n# Out: ba7816bf8f01cfea414140de5dae2223b00361a396177a9cb410ff61f20015ad\n\n# Test 2\n# In: 'abcdefghijklmnopqrstuvwxyz123456789abcdefghijklmnopqrstuvwxyz123456789abcdefghijklmnopqrstuvwxyz123456789abcdefghijklmnopqrstuvwxyz123456789'\n# Out: FD33E4A1D689E02A6AD3AF24CC1B9A32CBC85EAD80920BD9646D5C4352455DE2\n\ninput_text = \"abcdefghijklmnopqrstuvwxyz123456789abcdefghijklmnopqrstuvwxyz123456789abcdefghijklmnopqrstuvwxyz123456789abcdefghijklmnopqrstuvwxyz123456789\"\nprint(\"In:\",input_text)\nprint()\nprint(\"Out:\",sha256(input_text))",
      "execution_count": 8,
      "outputs": [
        {
          "output_type": "stream",
          "text": "In: abcdefghijklmnopqrstuvwxyz123456789abcdefghijklmnopqrstuvwxyz123456789abcdefghijklmnopqrstuvwxyz123456789abcdefghijklmnopqrstuvwxyz123456789\n\nOut: FD33E4A1D689E02A6AD3AF24CC1B9A32CBC85EAD80920BD9646D5C4352455DE2\n",
          "name": "stdout"
        }
      ]
    }
  ],
  "metadata": {
    "kernelspec": {
      "name": "python36",
      "display_name": "Python 3.6",
      "language": "python"
    },
    "language_info": {
      "mimetype": "text/x-python",
      "nbconvert_exporter": "python",
      "name": "python",
      "pygments_lexer": "ipython3",
      "version": "3.6.6",
      "file_extension": ".py",
      "codemirror_mode": {
        "version": 3,
        "name": "ipython"
      }
    }
  },
  "nbformat": 4,
  "nbformat_minor": 2
}