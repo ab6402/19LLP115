{
  "cells": [
    {
      "metadata": {
        "collapsed": true
      },
      "cell_type": "markdown",
      "source": "# Diffie Hellman Key Exchange"
    },
    {
      "metadata": {},
      "cell_type": "markdown",
      "source": "### Imports"
    },
    {
      "metadata": {
        "trusted": true
      },
      "cell_type": "code",
      "source": "import random",
      "execution_count": 1,
      "outputs": []
    },
    {
      "metadata": {},
      "cell_type": "markdown",
      "source": "### Functions"
    },
    {
      "metadata": {
        "trusted": true
      },
      "cell_type": "code",
      "source": "# Determine if number is prime\ndef isPrime(x):\n    count = 0\n    for i in range(int(x/2)):\n        if x % (i+1) == 0:\n            count = count+1\n    return count == 1\n\n\n# Generate primes\ndef getPrime():\n    minPrime = 0\n    maxPrime = 1000\n    cached_primes = [i for i in range(minPrime,maxPrime) if isPrime(i)]\n\n    return random.choice([i for i in cached_primes if minPrime<i<maxPrime])\n",
      "execution_count": 2,
      "outputs": []
    },
    {
      "metadata": {},
      "cell_type": "markdown",
      "source": "## 1. Select primes & secret keys (primes)"
    },
    {
      "metadata": {
        "trusted": true
      },
      "cell_type": "code",
      "source": "# Generate a selection of primes\n\n\n# Select primes\nq = getPrime()\na = getPrime()\n\nalice_secret_prime = getPrime()\nbob_secret_prime = getPrime()\n\nprint(\"q:\\t\\t\\t\\t\", q)\nprint(\"a:\\t\\t\\t\\t\", a)\nprint()\nprint(\"alice_secret_prime:\\t\\t\", alice_secret_prime)\nprint(\"bob_secret_prime:\\t\\t\", bob_secret_prime)\n\n# Check keys are not equal\n",
      "execution_count": 3,
      "outputs": [
        {
          "output_type": "stream",
          "text": "q:\t\t\t\t 241\na:\t\t\t\t 751\n\nalice_secret_prime:\t\t 757\nbob_secret_prime:\t\t 863\n",
          "name": "stdout"
        }
      ]
    },
    {
      "metadata": {},
      "cell_type": "markdown",
      "source": "## 2. Compute respective public keys:"
    },
    {
      "metadata": {
        "trusted": true
      },
      "cell_type": "code",
      "source": "alice_public_prime = (a ** alice_secret_prime) % q\nbob_public_prime = (a ** bob_secret_prime) % q\n\nprint(\"alice_public_prime:\\t\\t\", alice_public_prime)\nprint(\"bob_public_prime:\\t\\t\", bob_public_prime)",
      "execution_count": 4,
      "outputs": [
        {
          "output_type": "stream",
          "text": "alice_public_prime:\t\t 218\nbob_public_prime:\t\t 102\n",
          "name": "stdout"
        }
      ]
    },
    {
      "metadata": {},
      "cell_type": "markdown",
      "source": "## 3. Compute shared session keys"
    },
    {
      "metadata": {
        "trusted": true
      },
      "cell_type": "code",
      "source": "alice_compute_shared_key = (bob_public_prime ** alice_secret_prime) % q\nbob_compute_shared_key = (alice_public_prime ** bob_secret_prime) % q\n\nprint(\"alice_compute_shared_key:\\t\", alice_compute_shared_key)\nprint(\"bob_compute_shared_key:\\t\\t\", bob_compute_shared_key)",
      "execution_count": 5,
      "outputs": [
        {
          "output_type": "stream",
          "text": "alice_compute_shared_key:\t 17\nbob_compute_shared_key:\t\t 17\n",
          "name": "stdout"
        }
      ]
    }
  ],
  "metadata": {
    "kernelspec": {
      "name": "python36",
      "display_name": "Python 3.6",
      "language": "python"
    },
    "language_info": {
      "mimetype": "text/x-python",
      "nbconvert_exporter": "python",
      "name": "python",
      "pygments_lexer": "ipython3",
      "version": "3.6.6",
      "file_extension": ".py",
      "codemirror_mode": {
        "version": 3,
        "name": "ipython"
      }
    }
  },
  "nbformat": 4,
  "nbformat_minor": 2
}